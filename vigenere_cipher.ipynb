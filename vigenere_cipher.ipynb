{
 "cells": [
  {
   "cell_type": "code",
   "execution_count": 1,
   "metadata": {},
   "outputs": [
    {
     "name": "stdout",
     "output_type": "stream",
     "text": [
      "Plain Text: ILOVENETWORKSECURITY\n",
      "KZRZGBHXYCUOUSFYTWWC\n"
     ]
    }
   ],
   "source": [
    "alpha=\"abcdefghijklmnopqrstuvwxyz\"\n",
    "ALPHA = \"ABCDEFGHIJKLMNOPQRSTUVWXYZ\"\n",
    "def encrypt(txt,key):\n",
    "    print(\"Plain Text: \"+\"ILOVENETWORKSECURITY\")\n",
    "    text=\"\"\n",
    "    if(len(key)<len(txt)):       \n",
    "        while len(key)<len(txt) or len(key)==len(txt):  \n",
    "            key +=key\n",
    "        for k in range(len(key)):            \n",
    "            if(txt[k].islower() and key[k].islower):       \n",
    "                v = ((ord(txt[k]) - 97) +  (ord(key[k]) - 97))%26\n",
    "                print(alpha[v])\n",
    "            elif(txt[k].isupper() and key[k].isupper):\n",
    "                v = ((ord(txt[k]) - 65) +  (ord(key[k]) - 65))%26   \n",
    "                print(ALPHA[v], end=\"\")           \n",
    "    elif(len(key)==len(txt)):\n",
    "        for k in range(len(txt)):  \n",
    "            if(txt[k].islower() and key[k].islower):   \n",
    "                v = ((ord(txt[k]) - 97) +  (ord(key[k]) - 97))%26\n",
    "                print(alpha[v])\n",
    "            elif(txt[k].isupper() and key[k].isupper):\n",
    "                v = ((ord(txt[k]) - 65) +  (ord(key[k]) - 65))%26   \n",
    "                print(ALPHA[v], end=\"\")  \n",
    "    else:        \n",
    "        for k in range(len(txt)):  \n",
    "            if(txt[k].islower() and key[k].islower):\n",
    "                v = ((ord(txt[k]) - 97) +  (ord(key[k]) - 97))%26\n",
    "                print(alpha[v])\n",
    "            elif(txt[k].isupper() and key[k].isupper):\n",
    "                v = ((ord(txt[k]) - 65) +  (ord(key[k]) - 65))%26   \n",
    "                print(ALPHA[v], end=\"\") \n",
    "try:\n",
    "    \n",
    "    encrypt('ILOVENETWORKSECURITY','CODE')   \n",
    "except:\n",
    "    print(\"\")"
   ]
  },
  {
   "cell_type": "code",
   "execution_count": 4,
   "metadata": {},
   "outputs": [
    {
     "name": "stdout",
     "output_type": "stream",
     "text": [
      "Plain Text: KZRZGBHXYCUOUSFYTWWC\n",
      "ILOVENETWORKSECURITY\n"
     ]
    }
   ],
   "source": [
    "def decrypt(txt,key):\n",
    "    print(\"Plain Text: \"+\"KZRZGBHXYCUOUSFYTWWC\")\n",
    "    text=\"\"\n",
    "    if(len(key)<len(txt)):     \n",
    "        while len(key)<len(txt) or len(key)==len(txt):            \n",
    "            key +=key\n",
    "        for k in range(len(key)):          \n",
    "            if(txt[k].islower() and key[k].islower):          \n",
    "                v = ((ord(txt[k]) - 97) -  (ord(key[k]) - 97))%26\n",
    "                print(alpha[v])\n",
    "            elif(txt[k].isupper() and key[k].isupper):\n",
    "                v = ((ord(txt[k]) - 65) -  (ord(key[k]) - 65))%26   \n",
    "                print(ALPHA[v], end=\"\")            \n",
    "    elif(len(key)==len(txt)):\n",
    "        for k in range(len(txt)):  \n",
    "            if(txt[k].islower() and key[k].islower):\n",
    "                v = ((ord(txt[k]) - 97) -  (ord(key[k]) - 97))%26\n",
    "                print(alpha[v])\n",
    "            elif(txt[k].isupper() and key[k].isupper):\n",
    "                v = ((ord(txt[k]) - 65) -  (ord(key[k]) - 65))%26   \n",
    "                print(ALPHA[v], end=\"\")  \n",
    "    else:  \n",
    "        for k in range(len(txt)):  \n",
    "            if(txt[k].islower() and key[k].islower): \n",
    "                v = ((ord(txt[k]) - 97) -  (ord(key[k]) - 97))%26\n",
    "                print(alpha[v])\n",
    "            elif(txt[k].isupper() and key[k].isupper):\n",
    "                v = ((ord(txt[k]) - 65) -  (ord(key[k]) - 65))%26   \n",
    "                print(ALPHA[v], end=\"\") \n",
    "try:\n",
    "    \n",
    "    decrypt('KZRZGBHXYCUOUSFYTWWC','CODE') \n",
    "except:\n",
    "    print(\"\")"
   ]
  },
  {
   "cell_type": "code",
   "execution_count": null,
   "metadata": {},
   "outputs": [],
   "source": []
  }
 ],
 "metadata": {
  "kernelspec": {
   "display_name": "Python 3",
   "language": "python",
   "name": "python3"
  },
  "language_info": {
   "codemirror_mode": {
    "name": "ipython",
    "version": 3
   },
   "file_extension": ".py",
   "mimetype": "text/x-python",
   "name": "python",
   "nbconvert_exporter": "python",
   "pygments_lexer": "ipython3",
   "version": "3.8.5"
  }
 },
 "nbformat": 4,
 "nbformat_minor": 4
}
